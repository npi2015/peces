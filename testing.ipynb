{
 "cells": [
  {
   "cell_type": "code",
   "execution_count": 1,
   "id": "6a6e5d82-b977-4958-9b29-0b75a69ec7a4",
   "metadata": {},
   "outputs": [
    {
     "name": "stdout",
     "output_type": "stream",
     "text": [
      "C:\\Users\\cuco2\\Desktop\\Verano2021\\The_Bridge\\Archivos de clase\\putos peces\\MODNet\n"
     ]
    }
   ],
   "source": [
    "import os\n",
    "\n",
    "# clone the repository\n",
    "if not os.path.exists('MODNet'):\n",
    "  !git clone https://github.com/ZHKKKe/MODNet\n",
    "%cd MODNet/\n",
    "\n",
    "# dowload the pre-trained ckpt for image matting\n",
    "pretrained_ckpt = 'pretrained/modnet_photographic_portrait_matting.ckpt'\n",
    "if not os.path.exists(pretrained_ckpt):\n",
    "  !gdown --id 1mcr7ALciuAsHCpLnrtG_eop5-EYhbCmz \\\n",
    "          -O pretrained/modnet_photographic_portrait_matting.ckpt"
   ]
  },
  {
   "cell_type": "code",
   "execution_count": 2,
   "id": "0d702407-5c81-4a7d-8524-5049b72ffb8c",
   "metadata": {},
   "outputs": [],
   "source": [
    "input_folder = \"../Imagenes normalizadas\"\n",
    "output_folder = \"../sin fondo\""
   ]
  },
  {
   "cell_type": "code",
   "execution_count": 9,
   "id": "9e0cf7f1-a839-4f72-90b2-7b314e2a2bee",
   "metadata": {},
   "outputs": [
    {
     "name": "stdout",
     "output_type": "stream",
     "text": [
      "C:\\Users\\cuco2\\desktop\\Verano2021\\The_Bridge\\env\\Scripts\\python.exe\n"
     ]
    }
   ],
   "source": [
    "import sys\n",
    "print(sys.executable)"
   ]
  },
  {
   "cell_type": "code",
   "execution_count": 13,
   "id": "02aaf7e0-293f-457e-9840-8220bbcb5ed3",
   "metadata": {},
   "outputs": [
    {
     "name": "stdout",
     "output_type": "stream",
     "text": [
      "Requirement already satisfied: torch in c:\\users\\cuco2\\appdata\\local\\programs\\python\\python39\\lib\\site-packages (1.10.0)\n",
      "Requirement already satisfied: typing-extensions in c:\\users\\cuco2\\appdata\\local\\programs\\python\\python39\\lib\\site-packages (from torch) (3.10.0.2)\n"
     ]
    },
    {
     "name": "stderr",
     "output_type": "stream",
     "text": [
      "WARNING: You are using pip version 21.1.3; however, version 21.3.1 is available.\n",
      "You should consider upgrading via the 'c:\\users\\cuco2\\appdata\\local\\programs\\python\\python39\\python.exe -m pip install --upgrade pip' command.\n"
     ]
    },
    {
     "name": "stdout",
     "output_type": "stream",
     "text": [
      "Collecting torchvision\n",
      "  Using cached torchvision-0.11.1-cp39-cp39-win_amd64.whl (984 kB)\n",
      "Requirement already satisfied: torch==1.10.0 in c:\\users\\cuco2\\appdata\\local\\programs\\python\\python39\\lib\\site-packages (from torchvision) (1.10.0)"
     ]
    },
    {
     "name": "stderr",
     "output_type": "stream",
     "text": [
      "WARNING: You are using pip version 21.1.3; however, version 21.3.1 is available.\n",
      "You should consider upgrading via the 'c:\\users\\cuco2\\appdata\\local\\programs\\python\\python39\\python.exe -m pip install --upgrade pip' command.\n"
     ]
    },
    {
     "name": "stdout",
     "output_type": "stream",
     "text": [
      "\n",
      "Requirement already satisfied: numpy in c:\\users\\cuco2\\appdata\\local\\programs\\python\\python39\\lib\\site-packages (from torchvision) (1.21.0)\n",
      "Collecting pillow!=8.3.0,>=5.3.0\n",
      "  Downloading Pillow-8.4.0-cp39-cp39-win_amd64.whl (3.2 MB)\n",
      "Requirement already satisfied: typing-extensions in c:\\users\\cuco2\\appdata\\local\\programs\\python\\python39\\lib\\site-packages (from torch==1.10.0->torchvision) (3.10.0.2)\n",
      "Installing collected packages: pillow, torchvision\n",
      "  Attempting uninstall: pillow\n",
      "    Found existing installation: Pillow 8.3.0\n",
      "    Uninstalling Pillow-8.3.0:\n",
      "      Successfully uninstalled Pillow-8.3.0\n",
      "Successfully installed pillow-8.4.0 torchvision-0.11.1\n"
     ]
    }
   ],
   "source": [
    "!pip install torch\n",
    "!pip install torchvision"
   ]
  },
  {
   "cell_type": "code",
   "execution_count": 20,
   "id": "540e4182-526f-46e2-890c-90bf576fe41d",
   "metadata": {},
   "outputs": [
    {
     "name": "stdout",
     "output_type": "stream",
     "text": [
      "Looking in links: https://download.pytorch.org/whl/cu113/torch_stable.html\n",
      "Collecting torch==1.10.0+cu113\n",
      "  Downloading https://download.pytorch.org/whl/cu113/torch-1.10.0%2Bcu113-cp39-cp39-win_amd64.whl (2442.3 MB)\n",
      "Collecting torchvision==0.11.1+cu113\n",
      "  Downloading https://download.pytorch.org/whl/cu113/torchvision-0.11.1%2Bcu113-cp39-cp39-win_amd64.whl (3.2 MB)\n"
     ]
    },
    {
     "name": "stderr",
     "output_type": "stream",
     "text": [
      "ERROR: Could not find a version that satisfies the requirement torchaudio===0.10.0+cu113 (from versions: 0.7.1, 0.7.2, 0.8.0, 0.8.1, 0.9.0, 0.9.1, 0.10.0)\n",
      "ERROR: No matching distribution found for torchaudio===0.10.0+cu113\n",
      "WARNING: You are using pip version 21.1.3; however, version 21.3.1 is available.\n",
      "You should consider upgrading via the 'c:\\users\\cuco2\\appdata\\local\\programs\\python\\python39\\python.exe -m pip install --upgrade pip' command.\n"
     ]
    },
    {
     "name": "stdout",
     "output_type": "stream",
     "text": [
      "^C\n"
     ]
    }
   ],
   "source": [
    "!pip uninstall torch"
   ]
  },
  {
   "cell_type": "code",
   "execution_count": 21,
   "id": "a8897ca1-e123-460d-bee4-774ae27c6ac1",
   "metadata": {},
   "outputs": [
    {
     "name": "stdout",
     "output_type": "stream",
     "text": [
      "Looking in links: https://download.pytorch.org/whl/cu113/torch_stable.html\n",
      "Collecting torch==1.10.0+cu113\n",
      "  Using cached https://download.pytorch.org/whl/cu113/torch-1.10.0%2Bcu113-cp39-cp39-win_amd64.whl (2442.3 MB)\n",
      "Collecting torchvision==0.11.1+cu113\n",
      "  Using cached https://download.pytorch.org/whl/cu113/torchvision-0.11.1%2Bcu113-cp39-cp39-win_amd64.whl (3.2 MB)\n"
     ]
    },
    {
     "name": "stderr",
     "output_type": "stream",
     "text": [
      "ERROR: Could not find a version that satisfies the requirement torchaudio===0.10.0+cu113 (from versions: 0.7.1, 0.7.2, 0.8.0, 0.8.1, 0.9.0, 0.9.1, 0.10.0)\n",
      "ERROR: No matching distribution found for torchaudio===0.10.0+cu113\n",
      "WARNING: You are using pip version 21.1.3; however, version 21.3.1 is available.\n",
      "You should consider upgrading via the 'c:\\users\\cuco2\\appdata\\local\\programs\\python\\python39\\python.exe -m pip install --upgrade pip' command.\n"
     ]
    }
   ],
   "source": [
    "!pip3 install torch==1.10.0+cu113 torchvision==0.11.1+cu113 torchaudio===0.10.0+cu113 -f https://download.pytorch.org/whl/cu113/torch_stable.html"
   ]
  },
  {
   "cell_type": "code",
   "execution_count": 16,
   "id": "ff518973-c159-4251-8392-b3bbb7faf01e",
   "metadata": {},
   "outputs": [
    {
     "name": "stderr",
     "output_type": "stream",
     "text": [
      "Traceback (most recent call last):\n",
      "  File \"C:\\Users\\cuco2\\AppData\\Local\\Programs\\Python\\Python39\\lib\\runpy.py\", line 197, in _run_module_as_main\n",
      "    return _run_code(code, main_globals, None,\n",
      "  File \"C:\\Users\\cuco2\\AppData\\Local\\Programs\\Python\\Python39\\lib\\runpy.py\", line 87, in _run_code\n",
      "    exec(code, run_globals)\n",
      "  File \"C:\\Users\\cuco2\\Desktop\\Verano2021\\The_Bridge\\Archivos de clase\\putos peces\\MODNet\\demo\\image_matting\\colab\\inference.py\", line 47, in <module>\n",
      "    modnet = nn.DataParallel(modnet).cuda()\n",
      "  File \"C:\\Users\\cuco2\\AppData\\Local\\Programs\\Python\\Python39\\lib\\site-packages\\torch\\nn\\modules\\module.py\", line 680, in cuda\n",
      "    return self._apply(lambda t: t.cuda(device))\n",
      "  File \"C:\\Users\\cuco2\\AppData\\Local\\Programs\\Python\\Python39\\lib\\site-packages\\torch\\nn\\modules\\module.py\", line 570, in _apply\n",
      "    module._apply(fn)\n",
      "  File \"C:\\Users\\cuco2\\AppData\\Local\\Programs\\Python\\Python39\\lib\\site-packages\\torch\\nn\\modules\\module.py\", line 570, in _apply\n",
      "    module._apply(fn)\n",
      "  File \"C:\\Users\\cuco2\\AppData\\Local\\Programs\\Python\\Python39\\lib\\site-packages\\torch\\nn\\modules\\module.py\", line 570, in _apply\n",
      "    module._apply(fn)\n",
      "  [Previous line repeated 3 more times]\n",
      "  File \"C:\\Users\\cuco2\\AppData\\Local\\Programs\\Python\\Python39\\lib\\site-packages\\torch\\nn\\modules\\module.py\", line 593, in _apply\n",
      "    param_applied = fn(param)\n",
      "  File \"C:\\Users\\cuco2\\AppData\\Local\\Programs\\Python\\Python39\\lib\\site-packages\\torch\\nn\\modules\\module.py\", line 680, in <lambda>\n",
      "    return self._apply(lambda t: t.cuda(device))\n",
      "  File \"C:\\Users\\cuco2\\AppData\\Local\\Programs\\Python\\Python39\\lib\\site-packages\\torch\\cuda\\__init__.py\", line 208, in _lazy_init\n",
      "    raise AssertionError(\"Torch not compiled with CUDA enabled\")\n",
      "AssertionError: Torch not compiled with CUDA enabled\n"
     ]
    }
   ],
   "source": [
    "!python -m demo.image_matting.colab.inference \\\n",
    "        --input-path ../Imagenes_normalizadas \\\n",
    "        --output-path ../sin_fondo \\\n",
    "        --ckpt-path ./pretrained/modnet_photographic_portrait_matting.ckpt"
   ]
  },
  {
   "cell_type": "code",
   "execution_count": 18,
   "id": "f8714382-d7e6-42bf-9151-820698fd0b14",
   "metadata": {},
   "outputs": [
    {
     "ename": "FileNotFoundError",
     "evalue": "[Errno 2] No such file or directory: '../sin fondo\\\\Angelfish.png'",
     "output_type": "error",
     "traceback": [
      "\u001b[1;31m---------------------------------------------------------------------------\u001b[0m",
      "\u001b[1;31mFileNotFoundError\u001b[0m                         Traceback (most recent call last)",
      "\u001b[1;32m<ipython-input-18-2461df5ae5a0>\u001b[0m in \u001b[0;36m<module>\u001b[1;34m\u001b[0m\n\u001b[0;32m     28\u001b[0m   \u001b[0mmatte_name\u001b[0m \u001b[1;33m=\u001b[0m \u001b[0mimage_name\u001b[0m\u001b[1;33m.\u001b[0m\u001b[0msplit\u001b[0m\u001b[1;33m(\u001b[0m\u001b[1;34m'.'\u001b[0m\u001b[1;33m)\u001b[0m\u001b[1;33m[\u001b[0m\u001b[1;36m0\u001b[0m\u001b[1;33m]\u001b[0m \u001b[1;33m+\u001b[0m \u001b[1;34m'.png'\u001b[0m\u001b[1;33m\u001b[0m\u001b[1;33m\u001b[0m\u001b[0m\n\u001b[0;32m     29\u001b[0m   \u001b[0mimage\u001b[0m \u001b[1;33m=\u001b[0m \u001b[0mImage\u001b[0m\u001b[1;33m.\u001b[0m\u001b[0mopen\u001b[0m\u001b[1;33m(\u001b[0m\u001b[0mos\u001b[0m\u001b[1;33m.\u001b[0m\u001b[0mpath\u001b[0m\u001b[1;33m.\u001b[0m\u001b[0mjoin\u001b[0m\u001b[1;33m(\u001b[0m\u001b[0minput_folder\u001b[0m\u001b[1;33m,\u001b[0m \u001b[0mimage_name\u001b[0m\u001b[1;33m)\u001b[0m\u001b[1;33m)\u001b[0m\u001b[1;33m\u001b[0m\u001b[1;33m\u001b[0m\u001b[0m\n\u001b[1;32m---> 30\u001b[1;33m   \u001b[0mmatte\u001b[0m \u001b[1;33m=\u001b[0m \u001b[0mImage\u001b[0m\u001b[1;33m.\u001b[0m\u001b[0mopen\u001b[0m\u001b[1;33m(\u001b[0m\u001b[0mos\u001b[0m\u001b[1;33m.\u001b[0m\u001b[0mpath\u001b[0m\u001b[1;33m.\u001b[0m\u001b[0mjoin\u001b[0m\u001b[1;33m(\u001b[0m\u001b[0moutput_folder\u001b[0m\u001b[1;33m,\u001b[0m \u001b[0mmatte_name\u001b[0m\u001b[1;33m)\u001b[0m\u001b[1;33m)\u001b[0m\u001b[1;33m\u001b[0m\u001b[1;33m\u001b[0m\u001b[0m\n\u001b[0m\u001b[0;32m     31\u001b[0m   \u001b[0mdisplay\u001b[0m\u001b[1;33m(\u001b[0m\u001b[0mcombined_display\u001b[0m\u001b[1;33m(\u001b[0m\u001b[0mimage\u001b[0m\u001b[1;33m,\u001b[0m \u001b[0mmatte\u001b[0m\u001b[1;33m)\u001b[0m\u001b[1;33m)\u001b[0m\u001b[1;33m\u001b[0m\u001b[1;33m\u001b[0m\u001b[0m\n\u001b[0;32m     32\u001b[0m   \u001b[0mprint\u001b[0m\u001b[1;33m(\u001b[0m\u001b[0mimage_name\u001b[0m\u001b[1;33m,\u001b[0m \u001b[1;34m'\\n'\u001b[0m\u001b[1;33m)\u001b[0m\u001b[1;33m\u001b[0m\u001b[1;33m\u001b[0m\u001b[0m\n",
      "\u001b[1;32m~\\desktop\\Verano2021\\The_Bridge\\env\\lib\\site-packages\\PIL\\Image.py\u001b[0m in \u001b[0;36mopen\u001b[1;34m(fp, mode, formats)\u001b[0m\n\u001b[0;32m   2910\u001b[0m \u001b[1;33m\u001b[0m\u001b[0m\n\u001b[0;32m   2911\u001b[0m     \u001b[1;32mif\u001b[0m \u001b[0mfilename\u001b[0m\u001b[1;33m:\u001b[0m\u001b[1;33m\u001b[0m\u001b[1;33m\u001b[0m\u001b[0m\n\u001b[1;32m-> 2912\u001b[1;33m         \u001b[0mfp\u001b[0m \u001b[1;33m=\u001b[0m \u001b[0mbuiltins\u001b[0m\u001b[1;33m.\u001b[0m\u001b[0mopen\u001b[0m\u001b[1;33m(\u001b[0m\u001b[0mfilename\u001b[0m\u001b[1;33m,\u001b[0m \u001b[1;34m\"rb\"\u001b[0m\u001b[1;33m)\u001b[0m\u001b[1;33m\u001b[0m\u001b[1;33m\u001b[0m\u001b[0m\n\u001b[0m\u001b[0;32m   2913\u001b[0m         \u001b[0mexclusive_fp\u001b[0m \u001b[1;33m=\u001b[0m \u001b[1;32mTrue\u001b[0m\u001b[1;33m\u001b[0m\u001b[1;33m\u001b[0m\u001b[0m\n\u001b[0;32m   2914\u001b[0m \u001b[1;33m\u001b[0m\u001b[0m\n",
      "\u001b[1;31mFileNotFoundError\u001b[0m: [Errno 2] No such file or directory: '../sin fondo\\\\Angelfish.png'"
     ]
    }
   ],
   "source": [
    "import numpy as np\n",
    "from PIL import Image\n",
    "\n",
    "def combined_display(image, matte):\n",
    "  # calculate display resolution\n",
    "  w, h = image.width, image.height\n",
    "  rw, rh = 800, int(h * 800 / (3 * w))\n",
    "  \n",
    "  # obtain predicted foreground\n",
    "  image = np.asarray(image)\n",
    "  if len(image.shape) == 2:\n",
    "    image = image[:, :, None]\n",
    "  if image.shape[2] == 1:\n",
    "    image = np.repeat(image, 3, axis=2)\n",
    "  elif image.shape[2] == 4:\n",
    "    image = image[:, :, 0:3]\n",
    "  matte = np.repeat(np.asarray(matte)[:, :, None], 3, axis=2) / 255\n",
    "  foreground = image * matte + np.full(image.shape, 255) * (1 - matte)\n",
    "  \n",
    "  # combine image, foreground, and alpha into one line\n",
    "  combined = np.concatenate((image, foreground, matte * 255), axis=1)\n",
    "  combined = Image.fromarray(np.uint8(combined)).resize((rw, rh))\n",
    "  return combined\n",
    "\n",
    "# visualize all images\n",
    "image_names = os.listdir(input_folder)\n",
    "for image_name in image_names:\n",
    "  matte_name = image_name.split('.')[0] + '.png'\n",
    "  image = Image.open(os.path.join(input_folder, image_name))\n",
    "  matte = Image.open(os.path.join(output_folder, matte_name))\n",
    "  display(combined_display(image, matte))\n",
    "  print(image_name, '\\n')\n"
   ]
  },
  {
   "cell_type": "code",
   "execution_count": null,
   "id": "bf01abd4-9c54-45f7-b40c-eebe826741dd",
   "metadata": {},
   "outputs": [],
   "source": []
  }
 ],
 "metadata": {
  "kernelspec": {
   "display_name": "myenv",
   "language": "python",
   "name": "myenv"
  },
  "language_info": {
   "codemirror_mode": {
    "name": "ipython",
    "version": 3
   },
   "file_extension": ".py",
   "mimetype": "text/x-python",
   "name": "python",
   "nbconvert_exporter": "python",
   "pygments_lexer": "ipython3",
   "version": "3.9.6"
  }
 },
 "nbformat": 4,
 "nbformat_minor": 5
}
